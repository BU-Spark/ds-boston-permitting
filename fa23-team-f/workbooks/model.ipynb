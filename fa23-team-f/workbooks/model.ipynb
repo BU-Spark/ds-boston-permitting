{
 "cells": [
  {
   "cell_type": "code",
   "execution_count": 6,
   "metadata": {},
   "outputs": [],
   "source": [
    "import numpy as np\n",
    "import pandas as pd\n",
    "import matplotlib.pyplot as plt"
   ]
  },
  {
   "cell_type": "code",
   "execution_count": 10,
   "metadata": {},
   "outputs": [
    {
     "name": "stderr",
     "output_type": "stream",
     "text": [
      "/home/timevdo/.local/lib/python3.10/site-packages/numpy/core/fromnumeric.py:3464: RuntimeWarning: Mean of empty slice.\n",
      "  return _methods._mean(a, axis=axis, dtype=dtype,\n",
      "/home/timevdo/.local/lib/python3.10/site-packages/numpy/core/_methods.py:192: RuntimeWarning: invalid value encountered in scalar divide\n",
      "  ret = ret.dtype.type(ret / rcount)\n"
     ]
    }
   ],
   "source": [
    "model_data = pd.DataFrame()\n",
    "\n",
    "appeals_df = pd.read_csv('../data/zoning_board_appeals_tracker.csv')\n",
    "voterdata_df = pd.read_csv('../data/VM2Uniform--MA--2021-01-19.tab', sep='\\t', encoding='iso-8859-1', usecols=['Residence_Addresses_Zip', 'CommercialData_EstimatedHHIncomeAmount'])\n",
    "\n",
    "zip_income_data = zip(voterdata_df['Residence_Addresses_Zip'], voterdata_df['CommercialData_EstimatedHHIncomeAmount'])\n",
    "\n",
    "zip_to_mean_income = dict.fromkeys(voterdata_df['Residence_Addresses_Zip'], None)\n",
    "\n",
    "for zipcode, income in zip_income_data:\n",
    "    try:\n",
    "        if zip_to_mean_income[zipcode] is None:\n",
    "            zip_to_mean_income[zipcode] = []\n",
    "        if type(income) == str:\n",
    "            income = int(income[1:])\n",
    "            zip_to_mean_income[zipcode].append(income)\n",
    "    except:\n",
    "        pass\n",
    "\n",
    "for zipcode in zip_to_mean_income.keys():\n",
    "    if zip_to_mean_income[zipcode] is not None:\n",
    "        zip_to_mean_income[zipcode] = np.mean(zip_to_mean_income[zipcode])"
   ]
  },
  {
   "cell_type": "code",
   "execution_count": 11,
   "metadata": {},
   "outputs": [
    {
     "data": {
      "text/html": [
       "<div>\n",
       "<style scoped>\n",
       "    .dataframe tbody tr th:only-of-type {\n",
       "        vertical-align: middle;\n",
       "    }\n",
       "\n",
       "    .dataframe tbody tr th {\n",
       "        vertical-align: top;\n",
       "    }\n",
       "\n",
       "    .dataframe thead th {\n",
       "        text-align: right;\n",
       "    }\n",
       "</style>\n",
       "<table border=\"1\" class=\"dataframe\">\n",
       "  <thead>\n",
       "    <tr style=\"text-align: right;\">\n",
       "      <th></th>\n",
       "      <th>zip</th>\n",
       "      <th>ward</th>\n",
       "      <th>ever_deferred</th>\n",
       "      <th>num_deferrals</th>\n",
       "      <th>appeal_type</th>\n",
       "      <th>status</th>\n",
       "      <th>income</th>\n",
       "      <th>denied</th>\n",
       "    </tr>\n",
       "  </thead>\n",
       "  <tbody>\n",
       "    <tr>\n",
       "      <th>0</th>\n",
       "      <td>2125</td>\n",
       "      <td>13</td>\n",
       "      <td>0</td>\n",
       "      <td>0.0</td>\n",
       "      <td>0</td>\n",
       "      <td>1</td>\n",
       "      <td>85337.156606</td>\n",
       "      <td>0</td>\n",
       "    </tr>\n",
       "    <tr>\n",
       "      <th>1</th>\n",
       "      <td>2121</td>\n",
       "      <td>12</td>\n",
       "      <td>0</td>\n",
       "      <td>0.0</td>\n",
       "      <td>0</td>\n",
       "      <td>1</td>\n",
       "      <td>53875.984289</td>\n",
       "      <td>0</td>\n",
       "    </tr>\n",
       "    <tr>\n",
       "      <th>2</th>\n",
       "      <td>2128</td>\n",
       "      <td>1</td>\n",
       "      <td>0</td>\n",
       "      <td>0.0</td>\n",
       "      <td>0</td>\n",
       "      <td>1</td>\n",
       "      <td>77779.589967</td>\n",
       "      <td>0</td>\n",
       "    </tr>\n",
       "    <tr>\n",
       "      <th>3</th>\n",
       "      <td>2131</td>\n",
       "      <td>19</td>\n",
       "      <td>0</td>\n",
       "      <td>0.0</td>\n",
       "      <td>0</td>\n",
       "      <td>1</td>\n",
       "      <td>102257.050240</td>\n",
       "      <td>0</td>\n",
       "    </tr>\n",
       "    <tr>\n",
       "      <th>4</th>\n",
       "      <td>2130</td>\n",
       "      <td>19</td>\n",
       "      <td>0</td>\n",
       "      <td>0.0</td>\n",
       "      <td>0</td>\n",
       "      <td>1</td>\n",
       "      <td>120167.693612</td>\n",
       "      <td>0</td>\n",
       "    </tr>\n",
       "  </tbody>\n",
       "</table>\n",
       "</div>"
      ],
      "text/plain": [
       "    zip  ward  ever_deferred  num_deferrals  appeal_type  status  \\\n",
       "0  2125    13              0            0.0            0       1   \n",
       "1  2121    12              0            0.0            0       1   \n",
       "2  2128     1              0            0.0            0       1   \n",
       "3  2131    19              0            0.0            0       1   \n",
       "4  2130    19              0            0.0            0       1   \n",
       "\n",
       "          income  denied  \n",
       "0   85337.156606       0  \n",
       "1   53875.984289       0  \n",
       "2   77779.589967       0  \n",
       "3  102257.050240       0  \n",
       "4  120167.693612       0  "
      ]
     },
     "execution_count": 11,
     "metadata": {},
     "output_type": "execute_result"
    }
   ],
   "source": [
    "# Add model features\n",
    "\"\"\"\n",
    "We want\n",
    "    appeal_type, status -- need to do indexing\n",
    "    zip, ward, ever_deferred, num_deferrals -- include\n",
    "    also include income of zip\n",
    "\"\"\"\n",
    "model_data[['zip', 'ward', 'ever_deferred', 'num_deferrals']] = appeals_df[['zip', 'ward', 'ever_deferred', 'num_deferrals']]\n",
    "model_data['ever_deferred'] = model_data['ever_deferred'].fillna('N')\n",
    "model_data['ever_deferred'] = model_data['ever_deferred'].replace('N', 0).replace('Y', 1)\n",
    "model_data['num_deferrals'] = model_data['num_deferrals'].fillna(0)\n",
    "\n",
    "appeal_list = list(set(appeals_df['appeal_type']))\n",
    "status_list = list(set(appeals_df['status']))\n",
    "model_data['appeal_type'] = appeals_df['appeal_type'].apply(lambda a : appeal_list.index(a))\n",
    "model_data['status'] = appeals_df['status'].apply(lambda s : status_list.index(s))\n",
    "\n",
    "model_data['income'] = appeals_df['zip'].apply(lambda z : zip_to_mean_income[z])\n",
    "model_data['denied'] = appeals_df['decision'].apply(lambda d : 1 if d == 'DeniedPrej' or d == 'Denied' else 0)\n",
    "\n",
    "model_data.head()"
   ]
  },
  {
   "cell_type": "code",
   "execution_count": 31,
   "metadata": {},
   "outputs": [
    {
     "name": "stdout",
     "output_type": "stream",
     "text": [
      "Accuracy on testing set =  0.8805838124723574\n",
      "RMSE on testing set =  0.11941618752764263\n"
     ]
    }
   ],
   "source": [
    "from sklearn.neighbors import KNeighborsClassifier\n",
    "from sklearn.ensemble import BaggingClassifier\n",
    "from sklearn.model_selection import train_test_split\n",
    "from sklearn.metrics import accuracy_score, confusion_matrix, mean_squared_error\n",
    "\n",
    "X_train, X_test, Y_train, Y_test = train_test_split(\n",
    "        model_data.drop(['denied'], axis=1),\n",
    "        model_data['denied'],\n",
    "        test_size=1/4.0,\n",
    "        random_state=0\n",
    "    )\n",
    "\n",
    "knn_model = BaggingClassifier(\n",
    "    KNeighborsClassifier(n_neighbors=50, weights='distance'),\n",
    "    n_estimators=50\n",
    ").fit(X_train, Y_train)\n",
    "\n",
    "Y_test_predictions = knn_model.predict(X_test)\n",
    "print(\"Accuracy on testing set = \", accuracy_score(Y_test, Y_test_predictions))\n",
    "print(\"RMSE on testing set = \", mean_squared_error(Y_test, Y_test_predictions))"
   ]
  },
  {
   "cell_type": "code",
   "execution_count": 39,
   "metadata": {},
   "outputs": [
    {
     "name": "stdout",
     "output_type": "stream",
     "text": [
      "Accuracy on testing set =  0.8841220698805838\n",
      "RMSE on testing set =  0.11587793011941619\n"
     ]
    }
   ],
   "source": [
    "from sklearn.ensemble import RandomForestClassifier\n",
    "\n",
    "X_train, X_test, Y_train, Y_test = train_test_split(\n",
    "        model_data.drop(['denied'], axis=1),\n",
    "        model_data['denied'],\n",
    "        test_size=1/4.0,\n",
    "        random_state=0\n",
    "    )\n",
    "\n",
    "tree_model = RandomForestClassifier(max_features=None, n_estimators=1000).fit(X_train, Y_train)\n",
    "\n",
    "Y_test_predictions = tree_model.predict(X_test)\n",
    "print(\"Accuracy on testing set = \", accuracy_score(Y_test, Y_test_predictions))\n",
    "print(\"RMSE on testing set = \", mean_squared_error(Y_test, Y_test_predictions))"
   ]
  }
 ],
 "metadata": {
  "kernelspec": {
   "display_name": "Python 3",
   "language": "python",
   "name": "python3"
  },
  "language_info": {
   "codemirror_mode": {
    "name": "ipython",
    "version": 3
   },
   "file_extension": ".py",
   "mimetype": "text/x-python",
   "name": "python",
   "nbconvert_exporter": "python",
   "pygments_lexer": "ipython3",
   "version": "3.10.6"
  },
  "orig_nbformat": 4
 },
 "nbformat": 4,
 "nbformat_minor": 2
}
