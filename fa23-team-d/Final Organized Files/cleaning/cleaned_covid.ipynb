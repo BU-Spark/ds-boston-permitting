{
 "cells": [
  {
   "cell_type": "markdown",
   "metadata": {},
   "source": [
    "## CLEANING COVID WEEKLY CASES DATA\n",
    "This notebook contains the cleaning process of the covid data. Slightly less cleaning was necessary for this dataset. Column descriptions are documented in the data_insights document."
   ]
  },
  {
   "cell_type": "code",
   "execution_count": 1,
   "metadata": {},
   "outputs": [],
   "source": [
    "import pandas as pd\n",
    "import numpy as np"
   ]
  },
  {
   "cell_type": "code",
   "execution_count": 2,
   "metadata": {},
   "outputs": [
    {
     "data": {
      "text/html": [
       "<div>\n",
       "<style scoped>\n",
       "    .dataframe tbody tr th:only-of-type {\n",
       "        vertical-align: middle;\n",
       "    }\n",
       "\n",
       "    .dataframe tbody tr th {\n",
       "        vertical-align: top;\n",
       "    }\n",
       "\n",
       "    .dataframe thead th {\n",
       "        text-align: right;\n",
       "    }\n",
       "</style>\n",
       "<table border=\"1\" class=\"dataframe\">\n",
       "  <thead>\n",
       "    <tr style=\"text-align: right;\">\n",
       "      <th></th>\n",
       "      <th>Week Start Date</th>\n",
       "      <th>Week End Date</th>\n",
       "      <th>Confirmed deaths</th>\n",
       "      <th>Probable deaths</th>\n",
       "      <th>Confirmed and probable deaths</th>\n",
       "      <th>Confirmed cases</th>\n",
       "      <th>Probable cases</th>\n",
       "      <th>Confirmed and probable cases</th>\n",
       "      <th>Last updated</th>\n",
       "    </tr>\n",
       "  </thead>\n",
       "  <tbody>\n",
       "    <tr>\n",
       "      <th>0</th>\n",
       "      <td>1/8/2023</td>\n",
       "      <td>1/14/2023</td>\n",
       "      <td>132</td>\n",
       "      <td>47</td>\n",
       "      <td>179</td>\n",
       "      <td>7075</td>\n",
       "      <td>1645</td>\n",
       "      <td>8720</td>\n",
       "      <td>11/16/2023</td>\n",
       "    </tr>\n",
       "    <tr>\n",
       "      <th>1</th>\n",
       "      <td>10/17/2021</td>\n",
       "      <td>10/23/2021</td>\n",
       "      <td>79</td>\n",
       "      <td>4</td>\n",
       "      <td>83</td>\n",
       "      <td>8163</td>\n",
       "      <td>699</td>\n",
       "      <td>8862</td>\n",
       "      <td>11/16/2023</td>\n",
       "    </tr>\n",
       "    <tr>\n",
       "      <th>2</th>\n",
       "      <td>11/22/2020</td>\n",
       "      <td>11/28/2020</td>\n",
       "      <td>153</td>\n",
       "      <td>15</td>\n",
       "      <td>168</td>\n",
       "      <td>18177</td>\n",
       "      <td>1003</td>\n",
       "      <td>19180</td>\n",
       "      <td>11/16/2023</td>\n",
       "    </tr>\n",
       "    <tr>\n",
       "      <th>3</th>\n",
       "      <td>10/3/2021</td>\n",
       "      <td>10/9/2021</td>\n",
       "      <td>85</td>\n",
       "      <td>2</td>\n",
       "      <td>87</td>\n",
       "      <td>9316</td>\n",
       "      <td>748</td>\n",
       "      <td>10064</td>\n",
       "      <td>11/16/2023</td>\n",
       "    </tr>\n",
       "    <tr>\n",
       "      <th>4</th>\n",
       "      <td>4/5/2020</td>\n",
       "      <td>4/11/2020</td>\n",
       "      <td>654</td>\n",
       "      <td>23</td>\n",
       "      <td>677</td>\n",
       "      <td>12145</td>\n",
       "      <td>30</td>\n",
       "      <td>12175</td>\n",
       "      <td>11/16/2023</td>\n",
       "    </tr>\n",
       "  </tbody>\n",
       "</table>\n",
       "</div>"
      ],
      "text/plain": [
       "  Week Start Date Week End Date  Confirmed deaths  Probable deaths  \\\n",
       "0        1/8/2023     1/14/2023               132               47   \n",
       "1      10/17/2021    10/23/2021                79                4   \n",
       "2      11/22/2020    11/28/2020               153               15   \n",
       "3       10/3/2021     10/9/2021                85                2   \n",
       "4        4/5/2020     4/11/2020               654               23   \n",
       "\n",
       "   Confirmed and probable deaths  Confirmed cases  Probable cases  \\\n",
       "0                            179             7075            1645   \n",
       "1                             83             8163             699   \n",
       "2                            168            18177            1003   \n",
       "3                             87             9316             748   \n",
       "4                            677            12145              30   \n",
       "\n",
       "   Confirmed and probable cases Last updated  \n",
       "0                          8720   11/16/2023  \n",
       "1                          8862   11/16/2023  \n",
       "2                         19180   11/16/2023  \n",
       "3                         10064   11/16/2023  \n",
       "4                         12175   11/16/2023  "
      ]
     },
     "execution_count": 2,
     "metadata": {},
     "output_type": "execute_result"
    }
   ],
   "source": [
    "df = pd.read_csv(\"../data/raw_covid.csv\")\n",
    "df.head()"
   ]
  },
  {
   "cell_type": "code",
   "execution_count": 3,
   "metadata": {},
   "outputs": [
    {
     "name": "stdout",
     "output_type": "stream",
     "text": [
      "<class 'pandas.core.frame.DataFrame'>\n",
      "RangeIndex: 195 entries, 0 to 194\n",
      "Data columns (total 9 columns):\n",
      " #   Column                         Non-Null Count  Dtype \n",
      "---  ------                         --------------  ----- \n",
      " 0   Week Start Date                195 non-null    object\n",
      " 1   Week End Date                  195 non-null    object\n",
      " 2   Confirmed deaths               195 non-null    int64 \n",
      " 3   Probable deaths                195 non-null    int64 \n",
      " 4   Confirmed and probable deaths  195 non-null    int64 \n",
      " 5   Confirmed cases                195 non-null    int64 \n",
      " 6   Probable cases                 195 non-null    int64 \n",
      " 7   Confirmed and probable cases   195 non-null    int64 \n",
      " 8   Last updated                   195 non-null    object\n",
      "dtypes: int64(6), object(3)\n",
      "memory usage: 13.8+ KB\n"
     ]
    }
   ],
   "source": [
    "df.info()"
   ]
  },
  {
   "cell_type": "markdown",
   "metadata": {},
   "source": [
    "Since there were not too many null rows we drop them"
   ]
  },
  {
   "cell_type": "code",
   "execution_count": 4,
   "metadata": {},
   "outputs": [],
   "source": [
    "df = df.dropna()"
   ]
  },
  {
   "cell_type": "markdown",
   "metadata": {},
   "source": [
    "Now we can only extract the columns we want. To simplify our work, we removed all but the confirmed deaths and cases, and kept a single time series, which we turned into a time series. We also sorted by Week End Date to make the data chronological."
   ]
  },
  {
   "cell_type": "code",
   "execution_count": 5,
   "metadata": {},
   "outputs": [],
   "source": [
    "df = df[[\"Week End Date\", \"Confirmed deaths\", \"Confirmed cases\"]]\n",
    "df['Week End Date'] = pd.to_datetime(df['Week End Date'])\n",
    "df = df.sort_values(by='Week End Date')"
   ]
  },
  {
   "cell_type": "markdown",
   "metadata": {},
   "source": [
    "Now we will sum values over months to get our final dictionary"
   ]
  },
  {
   "cell_type": "code",
   "execution_count": 6,
   "metadata": {},
   "outputs": [
    {
     "data": {
      "text/html": [
       "<div>\n",
       "<style scoped>\n",
       "    .dataframe tbody tr th:only-of-type {\n",
       "        vertical-align: middle;\n",
       "    }\n",
       "\n",
       "    .dataframe tbody tr th {\n",
       "        vertical-align: top;\n",
       "    }\n",
       "\n",
       "    .dataframe thead th {\n",
       "        text-align: right;\n",
       "    }\n",
       "</style>\n",
       "<table border=\"1\" class=\"dataframe\">\n",
       "  <thead>\n",
       "    <tr style=\"text-align: right;\">\n",
       "      <th></th>\n",
       "      <th>date</th>\n",
       "      <th>Confirmed cases</th>\n",
       "      <th>Confirmed deaths</th>\n",
       "    </tr>\n",
       "  </thead>\n",
       "  <tbody>\n",
       "    <tr>\n",
       "      <th>0</th>\n",
       "      <td>2020-02</td>\n",
       "      <td>2</td>\n",
       "      <td>0</td>\n",
       "    </tr>\n",
       "    <tr>\n",
       "      <th>1</th>\n",
       "      <td>2020-03</td>\n",
       "      <td>6902</td>\n",
       "      <td>72</td>\n",
       "    </tr>\n",
       "    <tr>\n",
       "      <th>2</th>\n",
       "      <td>2020-04</td>\n",
       "      <td>50483</td>\n",
       "      <td>3189</td>\n",
       "    </tr>\n",
       "    <tr>\n",
       "      <th>3</th>\n",
       "      <td>2020-05</td>\n",
       "      <td>39135</td>\n",
       "      <td>3696</td>\n",
       "    </tr>\n",
       "    <tr>\n",
       "      <th>4</th>\n",
       "      <td>2020-06</td>\n",
       "      <td>6592</td>\n",
       "      <td>688</td>\n",
       "    </tr>\n",
       "    <tr>\n",
       "      <th>5</th>\n",
       "      <td>2020-07</td>\n",
       "      <td>5478</td>\n",
       "      <td>208</td>\n",
       "    </tr>\n",
       "    <tr>\n",
       "      <th>6</th>\n",
       "      <td>2020-08</td>\n",
       "      <td>9791</td>\n",
       "      <td>148</td>\n",
       "    </tr>\n",
       "    <tr>\n",
       "      <th>7</th>\n",
       "      <td>2020-09</td>\n",
       "      <td>10263</td>\n",
       "      <td>98</td>\n",
       "    </tr>\n",
       "    <tr>\n",
       "      <th>8</th>\n",
       "      <td>2020-10</td>\n",
       "      <td>28504</td>\n",
       "      <td>229</td>\n",
       "    </tr>\n",
       "    <tr>\n",
       "      <th>9</th>\n",
       "      <td>2020-11</td>\n",
       "      <td>65502</td>\n",
       "      <td>457</td>\n",
       "    </tr>\n",
       "  </tbody>\n",
       "</table>\n",
       "</div>"
      ],
      "text/plain": [
       "      date  Confirmed cases  Confirmed deaths\n",
       "0  2020-02                2                 0\n",
       "1  2020-03             6902                72\n",
       "2  2020-04            50483              3189\n",
       "3  2020-05            39135              3696\n",
       "4  2020-06             6592               688\n",
       "5  2020-07             5478               208\n",
       "6  2020-08             9791               148\n",
       "7  2020-09            10263                98\n",
       "8  2020-10            28504               229\n",
       "9  2020-11            65502               457"
      ]
     },
     "execution_count": 6,
     "metadata": {},
     "output_type": "execute_result"
    }
   ],
   "source": [
    "# Transform 'date' column into 'year_month' format for the first DataFrame\n",
    "df['date'] = df['Week End Date'].dt.to_period('M').drop(columns=['Weed End Date'])\n",
    "\n",
    "# Aggregate confirmed cases and confirmed deaths by year and month\n",
    "df = df.groupby('date').agg({'Confirmed cases': 'sum', 'Confirmed deaths': 'sum'}).reset_index()\n",
    "\n",
    "df.head(10)\n",
    "\n",
    "# Note: Originally we also calculated by year, but we did not end up using that dictionary"
   ]
  },
  {
   "cell_type": "code",
   "execution_count": 7,
   "metadata": {},
   "outputs": [],
   "source": [
    "df.to_csv('../data/cleaned_covid.csv', index = False)"
   ]
  }
 ],
 "metadata": {
  "kernelspec": {
   "display_name": "base",
   "language": "python",
   "name": "python3"
  },
  "language_info": {
   "codemirror_mode": {
    "name": "ipython",
    "version": 3
   },
   "file_extension": ".py",
   "mimetype": "text/x-python",
   "name": "python",
   "nbconvert_exporter": "python",
   "pygments_lexer": "ipython3",
   "version": "3.11.5"
  }
 },
 "nbformat": 4,
 "nbformat_minor": 2
}
