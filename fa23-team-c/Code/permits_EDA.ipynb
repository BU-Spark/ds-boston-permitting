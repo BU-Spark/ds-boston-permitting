{
 "cells": [
  {
   "cell_type": "markdown",
   "metadata": {},
   "source": [
    "## Approved Building Permits Data"
   ]
  },
  {
   "cell_type": "code",
   "execution_count": null,
   "metadata": {},
   "outputs": [],
   "source": [
    "# First time run:\n",
    "#!git lfs install\n",
    "#!git lfs pull  \n",
    "\n",
    "import pandas as pd\n",
    "import matplotlib as plt\n",
    "\n",
    "# Load the CSV file into a DataFrame\n",
    "chunk_size = 100000\n",
    "data_chunk_1 = pd.read_csv(\"../data/permits_1_data.csv\", chunksize= chunk_size)\n",
    "\n",
    "for chunk in data_chunk_1:\n",
    "    # Perform EDA on the chunk here\n",
    "    print(chunk.head()) \n",
    "\n",
    "data_chunk_2 = pd.read_csv(\"../data/permits_2_data.csv\", chunksize= chunk_size)\n",
    "\n",
    "for chunk in data_chunk_2:\n",
    "    # Perform EDA on the chunk here\n",
    "    print(chunk.head()) \n",
    "\n",
    "data_chunk_3 = pd.read_csv(\"../data/permits_3_data.csv\", chunksize= chunk_size)\n",
    "\n",
    "for chunk in data_chunk_3:\n",
    "    # Perform EDA on the chunk here\n",
    "    print(chunk.head()) "
   ]
  },
  {
   "cell_type": "code",
   "execution_count": null,
   "metadata": {},
   "outputs": [],
   "source": [
    "# Convert each CSV file to a Dataframe.\n",
    "data_chunk_1 = pd.read_csv(\"../data/permits_1_data.csv\")\n",
    "data_chunk_2 = pd.read_csv(\"../data/permits_2_data.csv\")\n",
    "data_chunk_3 = pd.read_csv(\"../data/permits_3_data.csv\")\n",
    "\n",
    "# Concatenate into one Dataframe\n",
    "permits = pd.concat([data_chunk_1, data_chunk_2, data_chunk_3], ignore_index=True)\n",
    "\n",
    "# Print all column labels\n",
    "print(permits.columns.values)"
   ]
  },
  {
   "cell_type": "code",
   "execution_count": 22,
   "metadata": {},
   "outputs": [
    {
     "name": "stdout",
     "output_type": "stream",
     "text": [
      "object_id               int64\n",
      "permitnumber           object\n",
      "worktype               object\n",
      "permittypedescr        object\n",
      "description            object\n",
      "comments               object\n",
      "applicant              object\n",
      "declared_valuation    float64\n",
      "total_fees            float64\n",
      "issued_date            object\n",
      "expiration_date        object\n",
      "status                 object\n",
      "owner                  object\n",
      "occupancytype          object\n",
      "sq_feet               float64\n",
      "address                object\n",
      "city                   object\n",
      "state                  object\n",
      "zip                    object\n",
      "property_id           float64\n",
      "parcel_id             float64\n",
      "gpsy                  float64\n",
      "gpsx                  float64\n",
      "geom_2249              object\n",
      "lat                   float64\n",
      "long                  float64\n",
      "geom_4326              object\n",
      "dtype: object\n"
     ]
    }
   ],
   "source": [
    "def dollar_to_float(column):\n",
    "    column = column.astype(str)\n",
    "    column = column.apply(lambda x: x.replace('$', ''))\n",
    "    column = column.apply(lambda x: x.replace(',', ''))\n",
    "    column = column.astype(float)\n",
    "    return column\n",
    "\n",
    "# Converting declared valuation column into floats\n",
    "permits['declared_valuation'] = dollar_to_float(permits['declared_valuation'])\n",
    "permits['total_fees'] = dollar_to_float(permits['total_fees'])\n",
    "\n",
    "print(permits.dtypes)"
   ]
  },
  {
   "cell_type": "code",
   "execution_count": 19,
   "metadata": {},
   "outputs": [
    {
     "data": {
      "text/plain": [
       "<Axes: xlabel='sq_feet', ylabel='declared_valuation'>"
      ]
     },
     "execution_count": 19,
     "metadata": {},
     "output_type": "execute_result"
    },
    {
     "data": {
      "image/png": "[encoded data removed]",
      "text/plain": [
       "<Figure size 640x480 with 1 Axes>"
      ]
     },
     "metadata": {},
     "output_type": "display_data"
    }
   ],
   "source": [
    "# Scatter plot of square feet vs. declared valuation\n",
    "permits.plot.scatter(x = 'sq_feet', y = 'declared_valuation')"
   ]
  }
 ],
 "metadata": {
  "kernelspec": {
   "display_name": "Python 3.8.18 ('base')",
   "language": "python",
   "name": "python3"
  },
  "language_info": {
   "codemirror_mode": {
    "name": "ipython",
    "version": 3
   },
   "file_extension": ".py",
   "mimetype": "text/x-python",
   "name": "python",
   "nbconvert_exporter": "python",
   "pygments_lexer": "ipython3",
   "version": "3.8.18"
  },
  "vscode": {
   "interpreter": {
    "hash": "2d8e6747c059d3c9f288c16afa3cd24a7297ed9444df29f42f9a7db6fb5d3cca"
   }
  }
 },
 "nbformat": 4,
 "nbformat_minor": 2
}
