{
 "cells": [
  {
   "cell_type": "markdown",
   "metadata": {},
   "source": [
    "## Approved Building Permits Data"
   ]
  },
  {
   "cell_type": "code",
   "execution_count": null,
   "metadata": {},
   "outputs": [],
   "source": [
    "# First time run:\n",
    "#!git lfs install\n",
    "#!git lfs pull  \n",
    "\n",
    "import pandas as pd\n",
    "import matplotlib as plt"
   ]
  },
  {
   "cell_type": "code",
   "execution_count": null,
   "metadata": {},
   "outputs": [],
   "source": [
    "# Convert each CSV file to a Dataframe.\n",
    "data_chunk_1 = pd.read_csv(\"../data/permits_1_data.csv\")\n",
    "data_chunk_2 = pd.read_csv(\"../data/permits_2_data.csv\")\n",
    "data_chunk_3 = pd.read_csv(\"../data/permits_3_data.csv\")\n",
    "\n",
    "# Concatenate into one Dataframe\n",
    "permits = pd.concat([data_chunk_1, data_chunk_2, data_chunk_3], ignore_index=True)\n",
    "\n",
    "# Print all column labels\n",
    "print(permits.columns.values)"
   ]
  },
  {
   "cell_type": "code",
   "execution_count": 22,
   "metadata": {},
   "outputs": [
    {
     "name": "stdout",
     "output_type": "stream",
     "text": [
      "object_id               int64\n",
      "permitnumber           object\n",
      "worktype               object\n",
      "permittypedescr        object\n",
      "description            object\n",
      "comments               object\n",
      "applicant              object\n",
      "declared_valuation    float64\n",
      "total_fees            float64\n",
      "issued_date            object\n",
      "expiration_date        object\n",
      "status                 object\n",
      "owner                  object\n",
      "occupancytype          object\n",
      "sq_feet               float64\n",
      "address                object\n",
      "city                   object\n",
      "state                  object\n",
      "zip                    object\n",
      "property_id           float64\n",
      "parcel_id             float64\n",
      "gpsy                  float64\n",
      "gpsx                  float64\n",
      "geom_2249              object\n",
      "lat                   float64\n",
      "long                  float64\n",
      "geom_4326              object\n",
      "dtype: object\n"
     ]
    }
   ],
   "source": [
    "def dollar_to_float(column):\n",
    "    column = column.astype(str)\n",
    "    column = column.apply(lambda x: x.replace('$', ''))\n",
    "    column = column.apply(lambda x: x.replace(',', ''))\n",
    "    column = column.astype(float)\n",
    "    return column\n",
    "\n",
    "# Converting declared valuation column into floats\n",
    "permits['declared_valuation'] = dollar_to_float(permits['declared_valuation'])\n",
    "permits['total_fees'] = dollar_to_float(permits['total_fees'])\n",
    "\n",
    "print(permits.dtypes)"
   ]
  },
  {
   "cell_type": "code",
   "execution_count": 30,
   "metadata": {},
   "outputs": [],
   "source": [
    "# Scatter plot of square feet vs. declared valuation\n",
    "permits.plot.scatter(x = 'sq_feet', y = 'declared_valuation')"
   ]
  },
  {
   "cell_type": "code",
   "execution_count": 26,
   "metadata": {},
   "outputs": [
    {
     "data": {
      "text/html": [
       "<div>\n",
       "<style scoped>\n",
       "    .dataframe tbody tr th:only-of-type {\n",
       "        vertical-align: middle;\n",
       "    }\n",
       "\n",
       "    .dataframe tbody tr th {\n",
       "        vertical-align: top;\n",
       "    }\n",
       "\n",
       "    .dataframe thead th {\n",
       "        text-align: right;\n",
       "    }\n",
       "</style>\n",
       "<table border=\"1\" class=\"dataframe\">\n",
       "  <thead>\n",
       "    <tr style=\"text-align: right;\">\n",
       "      <th></th>\n",
       "      <th>object_id</th>\n",
       "      <th>permitnumber</th>\n",
       "      <th>worktype</th>\n",
       "      <th>permittypedescr</th>\n",
       "      <th>description</th>\n",
       "      <th>comments</th>\n",
       "      <th>applicant</th>\n",
       "      <th>declared_valuation</th>\n",
       "      <th>total_fees</th>\n",
       "      <th>issued_date</th>\n",
       "      <th>...</th>\n",
       "      <th>zip</th>\n",
       "      <th>property_id</th>\n",
       "      <th>parcel_id</th>\n",
       "      <th>gpsy</th>\n",
       "      <th>gpsx</th>\n",
       "      <th>geom_2249</th>\n",
       "      <th>lat</th>\n",
       "      <th>long</th>\n",
       "      <th>geom_4326</th>\n",
       "      <th>issued_year</th>\n",
       "    </tr>\n",
       "  </thead>\n",
       "  <tbody>\n",
       "    <tr>\n",
       "      <th>0</th>\n",
       "      <td>1</td>\n",
       "      <td>A1000569</td>\n",
       "      <td>INTEXT</td>\n",
       "      <td>Amendment to a Long Form</td>\n",
       "      <td>Interior/Exterior Work</td>\n",
       "      <td>This work is to Amend Permit ALT347244. Elimin...</td>\n",
       "      <td>Patrick Sharkey</td>\n",
       "      <td>NaN</td>\n",
       "      <td>390.0</td>\n",
       "      <td>2021-01-28 16:29:26+00</td>\n",
       "      <td>...</td>\n",
       "      <td>2109.0</td>\n",
       "      <td>130392.0</td>\n",
       "      <td>3.038070e+08</td>\n",
       "      <td>2.956235e+06</td>\n",
       "      <td>777000.467775</td>\n",
       "      <td>0101000020C9080000014080EF50B6274128B89653E58D...</td>\n",
       "      <td>42.359190</td>\n",
       "      <td>-71.052924</td>\n",
       "      <td>0101000020E6100000A703291D63C351C074AD05ECF92D...</td>\n",
       "      <td>2021</td>\n",
       "    </tr>\n",
       "    <tr>\n",
       "      <th>1</th>\n",
       "      <td>2</td>\n",
       "      <td>A100071</td>\n",
       "      <td>COB</td>\n",
       "      <td>Amendment to a Long Form</td>\n",
       "      <td>City of Boston</td>\n",
       "      <td>Change connector link layout from attached enc...</td>\n",
       "      <td>Renee Santeusanio</td>\n",
       "      <td>40000.00</td>\n",
       "      <td>429.0</td>\n",
       "      <td>2011-11-04 15:04:58+00</td>\n",
       "      <td>...</td>\n",
       "      <td>2132.0</td>\n",
       "      <td>17268.0</td>\n",
       "      <td>2.012032e+09</td>\n",
       "      <td>2.920239e+06</td>\n",
       "      <td>751016.119559</td>\n",
       "      <td>0101000020C908000081DB363D50EB264164AA649F9747...</td>\n",
       "      <td>42.260750</td>\n",
       "      <td>-71.149611</td>\n",
       "      <td>0101000020E61000005F23793993C951C071ECAA3E6021...</td>\n",
       "      <td>2011</td>\n",
       "    </tr>\n",
       "    <tr>\n",
       "      <th>2</th>\n",
       "      <td>3</td>\n",
       "      <td>A1001012</td>\n",
       "      <td>OTHER</td>\n",
       "      <td>Amendment to a Long Form</td>\n",
       "      <td>Other</td>\n",
       "      <td>Amend Alt943748 to erect a roof deck as per pl...</td>\n",
       "      <td>Jusimar Oliveria</td>\n",
       "      <td>5000.00</td>\n",
       "      <td>70.0</td>\n",
       "      <td>2020-06-01 18:08:47+00</td>\n",
       "      <td>...</td>\n",
       "      <td>2129.0</td>\n",
       "      <td>113443.0</td>\n",
       "      <td>2.028370e+08</td>\n",
       "      <td>2.962078e+06</td>\n",
       "      <td>775710.380542</td>\n",
       "      <td>0101000020C90800007E6BD6C23CAC2741422F500F4F99...</td>\n",
       "      <td>42.375243</td>\n",
       "      <td>-71.057585</td>\n",
       "      <td>0101000020E6100000F053B47AAFC351C0A6BB62F20730...</td>\n",
       "      <td>2020</td>\n",
       "    </tr>\n",
       "    <tr>\n",
       "      <th>3</th>\n",
       "      <td>4</td>\n",
       "      <td>A1001201</td>\n",
       "      <td>INTEXT</td>\n",
       "      <td>Amendment to a Long Form</td>\n",
       "      <td>Interior/Exterior Work</td>\n",
       "      <td>Build steel balcony over garden level with sta...</td>\n",
       "      <td>Andreas Hwang</td>\n",
       "      <td>74295.75</td>\n",
       "      <td>803.0</td>\n",
       "      <td>2019-11-13 18:38:56+00</td>\n",
       "      <td>...</td>\n",
       "      <td>2118.0</td>\n",
       "      <td>129994.0</td>\n",
       "      <td>4.025580e+08</td>\n",
       "      <td>2.949423e+06</td>\n",
       "      <td>769648.312793</td>\n",
       "      <td>0101000020C9080000025726A0E07C274183505E499780...</td>\n",
       "      <td>42.340600</td>\n",
       "      <td>-71.080251</td>\n",
       "      <td>0101000020E6100000D72A24D322C551C044521DC4982B...</td>\n",
       "      <td>2019</td>\n",
       "    </tr>\n",
       "    <tr>\n",
       "      <th>4</th>\n",
       "      <td>5</td>\n",
       "      <td>A100137</td>\n",
       "      <td>EXTREN</td>\n",
       "      <td>Amendment to a Long Form</td>\n",
       "      <td>Renovations - Exterior</td>\n",
       "      <td>Landscaping/stonework - amending permit #2801/...</td>\n",
       "      <td>NaN</td>\n",
       "      <td>15000.00</td>\n",
       "      <td>206.0</td>\n",
       "      <td>2013-01-03 19:13:09+00</td>\n",
       "      <td>...</td>\n",
       "      <td>2135.0</td>\n",
       "      <td>149852.0</td>\n",
       "      <td>2.204944e+09</td>\n",
       "      <td>2.950791e+06</td>\n",
       "      <td>749690.298790</td>\n",
       "      <td>0101000020C9080000FCFDFA98F4E02641F6694F594383...</td>\n",
       "      <td>42.344600</td>\n",
       "      <td>-71.154051</td>\n",
       "      <td>0101000020E61000009DED6FF7DBC951C0929A5BD71B2C...</td>\n",
       "      <td>2013</td>\n",
       "    </tr>\n",
       "  </tbody>\n",
       "</table>\n",
       "<p>5 rows × 28 columns</p>\n",
       "</div>"
      ],
      "text/plain": [
       "   object_id permitnumber worktype           permittypedescr  \\\n",
       "0          1     A1000569   INTEXT  Amendment to a Long Form   \n",
       "1          2      A100071      COB  Amendment to a Long Form   \n",
       "2          3     A1001012    OTHER  Amendment to a Long Form   \n",
       "3          4     A1001201   INTEXT  Amendment to a Long Form   \n",
       "4          5      A100137   EXTREN  Amendment to a Long Form   \n",
       "\n",
       "              description                                           comments  \\\n",
       "0  Interior/Exterior Work  This work is to Amend Permit ALT347244. Elimin...   \n",
       "1          City of Boston  Change connector link layout from attached enc...   \n",
       "2                   Other  Amend Alt943748 to erect a roof deck as per pl...   \n",
       "3  Interior/Exterior Work  Build steel balcony over garden level with sta...   \n",
       "4  Renovations - Exterior  Landscaping/stonework - amending permit #2801/...   \n",
       "\n",
       "           applicant  declared_valuation  total_fees             issued_date  \\\n",
       "0    Patrick Sharkey                 NaN       390.0  2021-01-28 16:29:26+00   \n",
       "1  Renee Santeusanio            40000.00       429.0  2011-11-04 15:04:58+00   \n",
       "2   Jusimar Oliveria             5000.00        70.0  2020-06-01 18:08:47+00   \n",
       "3      Andreas Hwang            74295.75       803.0  2019-11-13 18:38:56+00   \n",
       "4                NaN            15000.00       206.0  2013-01-03 19:13:09+00   \n",
       "\n",
       "   ...     zip property_id     parcel_id          gpsy           gpsx  \\\n",
       "0  ...  2109.0    130392.0  3.038070e+08  2.956235e+06  777000.467775   \n",
       "1  ...  2132.0     17268.0  2.012032e+09  2.920239e+06  751016.119559   \n",
       "2  ...  2129.0    113443.0  2.028370e+08  2.962078e+06  775710.380542   \n",
       "3  ...  2118.0    129994.0  4.025580e+08  2.949423e+06  769648.312793   \n",
       "4  ...  2135.0    149852.0  2.204944e+09  2.950791e+06  749690.298790   \n",
       "\n",
       "                                           geom_2249        lat       long  \\\n",
       "0  0101000020C9080000014080EF50B6274128B89653E58D...  42.359190 -71.052924   \n",
       "1  0101000020C908000081DB363D50EB264164AA649F9747...  42.260750 -71.149611   \n",
       "2  0101000020C90800007E6BD6C23CAC2741422F500F4F99...  42.375243 -71.057585   \n",
       "3  0101000020C9080000025726A0E07C274183505E499780...  42.340600 -71.080251   \n",
       "4  0101000020C9080000FCFDFA98F4E02641F6694F594383...  42.344600 -71.154051   \n",
       "\n",
       "                                           geom_4326  issued_year  \n",
       "0  0101000020E6100000A703291D63C351C074AD05ECF92D...         2021  \n",
       "1  0101000020E61000005F23793993C951C071ECAA3E6021...         2011  \n",
       "2  0101000020E6100000F053B47AAFC351C0A6BB62F20730...         2020  \n",
       "3  0101000020E6100000D72A24D322C551C044521DC4982B...         2019  \n",
       "4  0101000020E61000009DED6FF7DBC951C0929A5BD71B2C...         2013  \n",
       "\n",
       "[5 rows x 28 columns]"
      ]
     },
     "execution_count": 26,
     "metadata": {},
     "output_type": "execute_result"
    }
   ],
   "source": [
    "# Adds column with just the year\n",
    "permits['issued_year'] = permits['issued_date'].astype(str).apply(lambda x: x[0:4])\n",
    "permits['issued_year'] = permits['issued_year'].astype(int)"
   ]
  },
  {
   "cell_type": "code",
   "execution_count": 38,
   "metadata": {},
   "outputs": [
    {
     "data": {
      "text/plain": [
       "<Axes: title={'center': 'Average square feet per year'}, xlabel='issued_year'>"
      ]
     },
     "execution_count": 38,
     "metadata": {},
     "output_type": "execute_result"
    },
    {
     "data": {
      "image/png": "[encoded data removed]",
      "text/plain": [
       "<Figure size 400x300 with 1 Axes>"
      ]
     },
     "metadata": {},
     "output_type": "display_data"
    }
   ],
   "source": [
    "ave_sq_feet = permits.groupby(['issued_year'])['sq_feet'].mean()\n",
    "ave_sq_feet.plot(kind = 'bar', title='Average square feet per year', figsize=(4, 3))"
   ]
  },
  {
   "cell_type": "code",
   "execution_count": 39,
   "metadata": {},
   "outputs": [
    {
     "data": {
      "text/plain": [
       "<Axes: title={'center': 'Average declared valuation per year'}, xlabel='issued_year'>"
      ]
     },
     "execution_count": 39,
     "metadata": {},
     "output_type": "execute_result"
    },
    {
     "data": {
      "image/png": "[encoded data removed]",
      "text/plain": [
       "<Figure size 400x300 with 1 Axes>"
      ]
     },
     "metadata": {},
     "output_type": "display_data"
    }
   ],
   "source": [
    "ave_val = permits.groupby(['issued_year'])['declared_valuation'].mean()\n",
    "ave_val.plot(kind = 'bar', title='Average declared valuation per year', figsize=(4, 3))"
   ]
  }
 ],
 "metadata": {
  "kernelspec": {
   "display_name": "Python 3.8.18 ('base')",
   "language": "python",
   "name": "python3"
  },
  "language_info": {
   "codemirror_mode": {
    "name": "ipython",
    "version": 3
   },
   "file_extension": ".py",
   "mimetype": "text/x-python",
   "name": "python",
   "nbconvert_exporter": "python",
   "pygments_lexer": "ipython3",
   "version": "3.8.18"
  },
  "vscode": {
   "interpreter": {
    "hash": "2d8e6747c059d3c9f288c16afa3cd24a7297ed9444df29f42f9a7db6fb5d3cca"
   }
  }
 },
 "nbformat": 4,
 "nbformat_minor": 2
}
