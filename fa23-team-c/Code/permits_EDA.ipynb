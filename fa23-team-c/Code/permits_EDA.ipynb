{
 "cells": [
  {
   "cell_type": "markdown",
   "metadata": {},
   "source": [
    "## Approved Building Permits Data"
   ]
  },
  {
   "cell_type": "code",
   "execution_count": null,
   "metadata": {},
   "outputs": [],
   "source": [
    "# First time run:\n",
    "#!git lfs install\n",
    "#!git lfs pull  \n",
    "\n",
    "import pandas as pd\n",
    "\n",
    "# Load the CSV file into a DataFrame\n",
    "chunk_size = 100000\n",
    "data_chunk_1 = pd.read_csv(\"../data/permits_1_data.csv\", chunksize= chunk_size)\n",
    "\n",
    "for chunk in data_chunk_1:\n",
    "    # Perform EDA on the chunk here\n",
    "    print(chunk.head()) \n",
    "\n",
    "data_chunk_2 = pd.read_csv(\"../data/permits_2_data.csv\", chunksize= chunk_size)\n",
    "\n",
    "for chunk in data_chunk_2:\n",
    "    # Perform EDA on the chunk here\n",
    "    print(chunk.head()) \n",
    "\n",
    "data_chunk_3 = pd.read_csv(\"../data/permits_3_data.csv\", chunksize= chunk_size)\n",
    "\n",
    "for chunk in data_chunk_3:\n",
    "    # Perform EDA on the chunk here\n",
    "    print(chunk.head()) "
   ]
  }
 ],
 "metadata": {
  "language_info": {
   "name": "python"
  }
 },
 "nbformat": 4,
 "nbformat_minor": 2
}
