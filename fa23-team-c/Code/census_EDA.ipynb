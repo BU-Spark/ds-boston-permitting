{
 "cells": [
  {
   "cell_type": "markdown",
   "metadata": {},
   "source": [
    "## Census Data"
   ]
  },
  {
   "cell_type": "code",
   "execution_count": 1,
   "metadata": {},
   "outputs": [
    {
     "data": {
      "text/html": [
       "<div>\n",
       "<style scoped>\n",
       "    .dataframe tbody tr th:only-of-type {\n",
       "        vertical-align: middle;\n",
       "    }\n",
       "\n",
       "    .dataframe tbody tr th {\n",
       "        vertical-align: top;\n",
       "    }\n",
       "\n",
       "    .dataframe thead th {\n",
       "        text-align: right;\n",
       "    }\n",
       "</style>\n",
       "<table border=\"1\" class=\"dataframe\">\n",
       "  <thead>\n",
       "    <tr style=\"text-align: right;\">\n",
       "      <th></th>\n",
       "      <th>Label (Grouping)</th>\n",
       "      <th>ZCTA5 02215!!Estimate</th>\n",
       "      <th>ZCTA5 02215!!Margin of Error</th>\n",
       "      <th>ZCTA5 02215!!Percent</th>\n",
       "      <th>ZCTA5 02215!!Percent Margin of Error</th>\n",
       "    </tr>\n",
       "  </thead>\n",
       "  <tbody>\n",
       "    <tr>\n",
       "      <th>0</th>\n",
       "      <td>HOUSING OCCUPANCY</td>\n",
       "      <td>NaN</td>\n",
       "      <td>NaN</td>\n",
       "      <td>NaN</td>\n",
       "      <td>NaN</td>\n",
       "    </tr>\n",
       "    <tr>\n",
       "      <th>1</th>\n",
       "      <td>Total housing units</td>\n",
       "      <td>8,908</td>\n",
       "      <td>±612</td>\n",
       "      <td>8,908</td>\n",
       "      <td>(X)</td>\n",
       "    </tr>\n",
       "    <tr>\n",
       "      <th>2</th>\n",
       "      <td>Occupied housing units</td>\n",
       "      <td>7,931</td>\n",
       "      <td>±567</td>\n",
       "      <td>89.0%</td>\n",
       "      <td>±2.4</td>\n",
       "    </tr>\n",
       "    <tr>\n",
       "      <th>3</th>\n",
       "      <td>Vacant housing units</td>\n",
       "      <td>977</td>\n",
       "      <td>±228</td>\n",
       "      <td>11.0%</td>\n",
       "      <td>±2.4</td>\n",
       "    </tr>\n",
       "    <tr>\n",
       "      <th>4</th>\n",
       "      <td>Homeowner vacancy rate</td>\n",
       "      <td>0.0</td>\n",
       "      <td>±5.2</td>\n",
       "      <td>(X)</td>\n",
       "      <td>(X)</td>\n",
       "    </tr>\n",
       "  </tbody>\n",
       "</table>\n",
       "</div>"
      ],
      "text/plain": [
       "                 Label (Grouping) ZCTA5 02215!!Estimate  \\\n",
       "0               HOUSING OCCUPANCY                   NaN   \n",
       "1             Total housing units                 8,908   \n",
       "2          Occupied housing units                 7,931   \n",
       "3            Vacant housing units                   977   \n",
       "4          Homeowner vacancy rate                   0.0   \n",
       "\n",
       "  ZCTA5 02215!!Margin of Error ZCTA5 02215!!Percent  \\\n",
       "0                          NaN                  NaN   \n",
       "1                         ±612                8,908   \n",
       "2                         ±567                89.0%   \n",
       "3                         ±228                11.0%   \n",
       "4                         ±5.2                  (X)   \n",
       "\n",
       "  ZCTA5 02215!!Percent Margin of Error  \n",
       "0                                  NaN  \n",
       "1                                  (X)  \n",
       "2                                 ±2.4  \n",
       "3                                 ±2.4  \n",
       "4                                  (X)  "
      ]
     },
     "execution_count": 1,
     "metadata": {},
     "output_type": "execute_result"
    }
   ],
   "source": [
    "import pandas as pd\n",
    "\n",
    "# Load the CSV file into a DataFrame\n",
    "data = pd.read_csv(\"../data/census_data.csv\")\n",
    "\n",
    "# Display the first few rows of the data to get an overview\n",
    "data.head()"
   ]
  }
 ],
 "metadata": {
  "kernelspec": {
   "display_name": "Python 3",
   "language": "python",
   "name": "python3"
  },
  "language_info": {
   "codemirror_mode": {
    "name": "ipython",
    "version": 3
   },
   "file_extension": ".py",
   "mimetype": "text/x-python",
   "name": "python",
   "nbconvert_exporter": "python",
   "pygments_lexer": "ipython3",
   "version": "3.11.2"
  }
 },
 "nbformat": 4,
 "nbformat_minor": 2
}
